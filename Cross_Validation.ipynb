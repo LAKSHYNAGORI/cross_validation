{
  "nbformat": 4,
  "nbformat_minor": 0,
  "metadata": {
    "colab": {
      "provenance": []
    },
    "kernelspec": {
      "name": "python3",
      "display_name": "Python 3"
    },
    "language_info": {
      "name": "python"
    }
  },
  "cells": [
    {
      "cell_type": "code",
      "execution_count": 3,
      "metadata": {
        "colab": {
          "base_uri": "https://localhost:8080/"
        },
        "id": "wGPOX0yVBVar",
        "outputId": "df7cfb49-311e-4442-9251-47700bb6a097"
      },
      "outputs": [
        {
          "output_type": "stream",
          "name": "stdout",
          "text": [
            "[0.33150734 0.08022311 0.03531764]\n"
          ]
        }
      ],
      "source": [
        "from  sklearn import datasets, linear_model\n",
        "from  sklearn.model_selection import cross_val_score\n",
        "diabetes =  datasets.load_diabetes()\n",
        "X = diabetes.data[:150]\n",
        "y = diabetes.target[:150]\n",
        "lasso = linear_model.Lasso()\n",
        "print(cross_val_score(lasso, X, y,cv=3))\n",
        "#this is the cross validation score\n",
        "# ask the better accuracy of given  for that we are using the techique callled as cross validation\n",
        "# of lasso , X,y,z\n",
        "# how we can chose the the target model and compare the validation score like wise X represent the salary\n",
        "# feature variable are stored the in the variable X and the target features are  stored in variable y\n",
        "# than we loading the model to lesso than X reresent the salary \n",
        "# and than we are the target to the target to the variable y\n",
        "# and than we are loading the fuction and calling the value of cross val_score\n",
        "# and than we loading the variable to the variable lasso\n",
        "# and than we calling the fuction cross val score and we are printing it\n",
        "# now we gives the validation score which is the accuracy score\n",
        "# for different iteration so by using this fuction you can use different model like logistic regression and find the validation score and compare it to see which model works fine\n",
        "# so this is cross validation  this is how cross validation works it.\n",
        "# how we can chose the target model based on the data we have\n",
        "# and based on the task we need to perform and thoes model we are trying to see which model works fine this is cross validation\n",
        "# works in this video we had see how we can chose the target model based on the data we have or base on the task we need to perform .\n",
        "# and thoed model we are trying to see have better accuracy \n",
        "# for that we are using the techniqe callled as cross validation\n"
      ]
    }
  ]
}